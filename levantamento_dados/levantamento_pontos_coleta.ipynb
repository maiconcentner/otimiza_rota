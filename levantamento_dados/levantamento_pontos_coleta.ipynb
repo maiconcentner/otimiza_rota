{
 "cells": [
  {
   "cell_type": "code",
   "execution_count": 29,
   "id": "ef15674f",
   "metadata": {},
   "outputs": [],
   "source": [
    "from selenium import webdriver\n",
    "from webdriver_manager.chrome import ChromeDriverManager\n",
    "from selenium.webdriver.chrome.service import Service\n",
    "\n",
    "servico = Service(ChromeDriverManager().install())\n",
    "\n",
    "navegador = webdriver.Chrome(service = servico)"
   ]
  },
  {
   "cell_type": "code",
   "execution_count": 30,
   "id": "342b35ac",
   "metadata": {},
   "outputs": [],
   "source": [
    "#Passo 1: Acessar o site da solutudo \n",
    "navegador.get(\"https://www.solutudo.com.br/empresas/sp/botucatu/busca?q=supermercados&pagina=1\")"
   ]
  },
  {
   "cell_type": "code",
   "execution_count": null,
   "id": "d6d89e38",
   "metadata": {},
   "outputs": [],
   "source": []
  }
 ],
 "metadata": {
  "kernelspec": {
   "display_name": "Python 3 (ipykernel)",
   "language": "python",
   "name": "python3"
  },
  "language_info": {
   "codemirror_mode": {
    "name": "ipython",
    "version": 3
   },
   "file_extension": ".py",
   "mimetype": "text/x-python",
   "name": "python",
   "nbconvert_exporter": "python",
   "pygments_lexer": "ipython3",
   "version": "3.9.13"
  }
 },
 "nbformat": 4,
 "nbformat_minor": 5
}
